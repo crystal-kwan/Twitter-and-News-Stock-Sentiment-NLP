{
 "cells": [
  {
   "cell_type": "markdown",
   "id": "0565e31e",
   "metadata": {},
   "source": [
    "# <h1 style='font-size:2.2rem;color:orange;'>Stock Markets Sensitivity to Social vs. News Media Sentiment</h1>"
   ]
  },
  {
   "cell_type": "markdown",
   "id": "e391cfd4",
   "metadata": {},
   "source": [
    "## 1. Install packages"
   ]
  },
  {
   "cell_type": "code",
   "execution_count": 2,
   "id": "d259a50b",
   "metadata": {},
   "outputs": [],
   "source": [
    "#pip install transformers"
   ]
  },
  {
   "cell_type": "markdown",
   "id": "9d5fba3e",
   "metadata": {},
   "source": [
    "## 2. Import Libraries"
   ]
  },
  {
   "cell_type": "code",
   "execution_count": null,
   "id": "c53c7a6b",
   "metadata": {},
   "outputs": [],
   "source": [
    "import pandas as pd\n",
    "import numpy as np"
   ]
  },
  {
   "cell_type": "markdown",
   "id": "424bfe38",
   "metadata": {},
   "source": [
    "## 3. Download datasets | Stock Data | News Data | Twitter Data"
   ]
  },
  {
   "cell_type": "markdown",
   "id": "bf58f7bd",
   "metadata": {},
   "source": [
    "### 3.1 Scrap Stock data"
   ]
  },
  {
   "cell_type": "code",
   "execution_count": null,
   "id": "7b30c2c1",
   "metadata": {},
   "outputs": [],
   "source": []
  },
  {
   "cell_type": "markdown",
   "id": "a7f5813e",
   "metadata": {},
   "source": [
    "### 3.2 Scrap News"
   ]
  },
  {
   "cell_type": "code",
   "execution_count": null,
   "id": "6b8b0e39",
   "metadata": {},
   "outputs": [],
   "source": []
  },
  {
   "cell_type": "markdown",
   "id": "c6edeab6",
   "metadata": {},
   "source": [
    "### 3.3 Scrap Twitter"
   ]
  },
  {
   "cell_type": "code",
   "execution_count": null,
   "id": "be21ecef",
   "metadata": {},
   "outputs": [],
   "source": []
  }
 ],
 "metadata": {
  "kernelspec": {
   "display_name": "Python 3 (ipykernel)",
   "language": "python",
   "name": "python3"
  },
  "language_info": {
   "codemirror_mode": {
    "name": "ipython",
    "version": 3
   },
   "file_extension": ".py",
   "mimetype": "text/x-python",
   "name": "python",
   "nbconvert_exporter": "python",
   "pygments_lexer": "ipython3",
   "version": "3.8.8"
  }
 },
 "nbformat": 4,
 "nbformat_minor": 5
}
